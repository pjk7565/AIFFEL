{
 "cells": [
  {
   "cell_type": "markdown",
   "id": "3ece470e",
   "metadata": {},
   "source": [
    "# 1. 데이터 준비"
   ]
  },
  {
   "cell_type": "code",
   "execution_count": 1,
   "id": "bb07fec9",
   "metadata": {},
   "outputs": [
    {
     "name": "stderr",
     "output_type": "stream",
     "text": [
      "[nltk_data] Downloading package stopwords to /aiffel/nltk_data...\n",
      "[nltk_data]   Package stopwords is already up-to-date!\n"
     ]
    }
   ],
   "source": [
    "import nltk\n",
    "nltk.download('stopwords')\n",
    "\n",
    "import numpy as np\n",
    "import pandas as pd\n",
    "import os\n",
    "import re\n",
    "import matplotlib.pyplot as plt\n",
    "from nltk.corpus import stopwords\n",
    "from bs4 import BeautifulSoup \n",
    "from tensorflow.keras.preprocessing.text import Tokenizer \n",
    "from tensorflow.keras.preprocessing.sequence import pad_sequences\n",
    "import urllib.request\n",
    "import warnings\n",
    "warnings.filterwarnings(\"ignore\", category=UserWarning, module='bs4')"
   ]
  },
  {
   "cell_type": "code",
   "execution_count": 2,
   "id": "24db08ee",
   "metadata": {},
   "outputs": [
    {
     "name": "stdout",
     "output_type": "stream",
     "text": [
      "전체 샘플수 : 98401\n"
     ]
    }
   ],
   "source": [
    "import urllib.request\n",
    "urllib.request.urlretrieve(\"https://raw.githubusercontent.com/sunnysai12345/News_Summary/master/news_summary_more.csv\", filename=\"news_summary_more.csv\")\n",
    "data = pd.read_csv('news_summary_more.csv', encoding='iso-8859-1')\n",
    "print('전체 샘플수 :', (len(data)))"
   ]
  },
  {
   "cell_type": "code",
   "execution_count": 3,
   "id": "9021920d",
   "metadata": {},
   "outputs": [
    {
     "data": {
      "text/html": [
       "<div>\n",
       "<style scoped>\n",
       "    .dataframe tbody tr th:only-of-type {\n",
       "        vertical-align: middle;\n",
       "    }\n",
       "\n",
       "    .dataframe tbody tr th {\n",
       "        vertical-align: top;\n",
       "    }\n",
       "\n",
       "    .dataframe thead th {\n",
       "        text-align: right;\n",
       "    }\n",
       "</style>\n",
       "<table border=\"1\" class=\"dataframe\">\n",
       "  <thead>\n",
       "    <tr style=\"text-align: right;\">\n",
       "      <th></th>\n",
       "      <th>headlines</th>\n",
       "      <th>text</th>\n",
       "    </tr>\n",
       "  </thead>\n",
       "  <tbody>\n",
       "    <tr>\n",
       "      <th>0</th>\n",
       "      <td>upGrad learner switches to career in ML &amp; Al w...</td>\n",
       "      <td>Saurav Kant, an alumnus of upGrad and IIIT-B's...</td>\n",
       "    </tr>\n",
       "    <tr>\n",
       "      <th>1</th>\n",
       "      <td>Delhi techie wins free food from Swiggy for on...</td>\n",
       "      <td>Kunal Shah's credit card bill payment platform...</td>\n",
       "    </tr>\n",
       "    <tr>\n",
       "      <th>2</th>\n",
       "      <td>New Zealand end Rohit Sharma-led India's 12-ma...</td>\n",
       "      <td>New Zealand defeated India by 8 wickets in the...</td>\n",
       "    </tr>\n",
       "    <tr>\n",
       "      <th>3</th>\n",
       "      <td>Aegon life iTerm insurance plan helps customer...</td>\n",
       "      <td>With Aegon Life iTerm Insurance plan, customer...</td>\n",
       "    </tr>\n",
       "    <tr>\n",
       "      <th>4</th>\n",
       "      <td>Have known Hirani for yrs, what if MeToo claim...</td>\n",
       "      <td>Speaking about the sexual harassment allegatio...</td>\n",
       "    </tr>\n",
       "  </tbody>\n",
       "</table>\n",
       "</div>"
      ],
      "text/plain": [
       "                                           headlines  \\\n",
       "0  upGrad learner switches to career in ML & Al w...   \n",
       "1  Delhi techie wins free food from Swiggy for on...   \n",
       "2  New Zealand end Rohit Sharma-led India's 12-ma...   \n",
       "3  Aegon life iTerm insurance plan helps customer...   \n",
       "4  Have known Hirani for yrs, what if MeToo claim...   \n",
       "\n",
       "                                                text  \n",
       "0  Saurav Kant, an alumnus of upGrad and IIIT-B's...  \n",
       "1  Kunal Shah's credit card bill payment platform...  \n",
       "2  New Zealand defeated India by 8 wickets in the...  \n",
       "3  With Aegon Life iTerm Insurance plan, customer...  \n",
       "4  Speaking about the sexual harassment allegatio...  "
      ]
     },
     "execution_count": 3,
     "metadata": {},
     "output_type": "execute_result"
    }
   ],
   "source": [
    "data.head()"
   ]
  },
  {
   "cell_type": "markdown",
   "id": "84589705",
   "metadata": {},
   "source": [
    "# 2. 데이터 전처리"
   ]
  },
  {
   "cell_type": "markdown",
   "id": "31637c75",
   "metadata": {},
   "source": [
    "## (1) 데이터 중복 처리"
   ]
  },
  {
   "cell_type": "code",
   "execution_count": 4,
   "id": "bc7a3bc5",
   "metadata": {},
   "outputs": [
    {
     "name": "stdout",
     "output_type": "stream",
     "text": [
      "headlines 열에서 중복을 배제한 유일한 샘플의 수 : 98280\n",
      "text 열에서 중복을 배제한 유일한 샘플의 수 : 98360\n"
     ]
    }
   ],
   "source": [
    "# 중복 확인\n",
    "print('headlines 열에서 중복을 배제한 유일한 샘플의 수 :', data['headlines'].nunique())\n",
    "print('text 열에서 중복을 배제한 유일한 샘플의 수 :', data['text'].nunique())"
   ]
  },
  {
   "cell_type": "code",
   "execution_count": 5,
   "id": "65612b68",
   "metadata": {},
   "outputs": [
    {
     "name": "stdout",
     "output_type": "stream",
     "text": [
      "전체 샘플수 : 98360\n"
     ]
    }
   ],
   "source": [
    "# text 열 중복 제거\n",
    "# inplace=True 를 설정하면 DataFrame 타입 값을 return 하지 않고 data 내부를 직접적으로 바꾼다\n",
    "data.drop_duplicates(subset = ['text'], inplace=True)\n",
    "print('전체 샘플수 :', (len(data)))"
   ]
  },
  {
   "cell_type": "markdown",
   "id": "35773039",
   "metadata": {},
   "source": [
    "## (2) Null 확인"
   ]
  },
  {
   "cell_type": "code",
   "execution_count": 6,
   "id": "f59d29b4",
   "metadata": {},
   "outputs": [
    {
     "name": "stdout",
     "output_type": "stream",
     "text": [
      "headlines    0\n",
      "text         0\n",
      "dtype: int64\n"
     ]
    }
   ],
   "source": [
    "# Null값 확인\n",
    "print(data.isnull().sum())"
   ]
  },
  {
   "cell_type": "markdown",
   "id": "9d1b3694",
   "metadata": {},
   "source": [
    "## (3) 불용어 제거"
   ]
  },
  {
   "cell_type": "code",
   "execution_count": 7,
   "id": "180f74e2",
   "metadata": {},
   "outputs": [
    {
     "name": "stdout",
     "output_type": "stream",
     "text": [
      "정규화 사전의 수:  120\n"
     ]
    }
   ],
   "source": [
    "contractions = {\"ain't\": \"is not\", \"aren't\": \"are not\",\"can't\": \"cannot\", \"'cause\": \"because\", \"could've\": \"could have\", \"couldn't\": \"could not\",\n",
    "                           \"didn't\": \"did not\",  \"doesn't\": \"does not\", \"don't\": \"do not\", \"hadn't\": \"had not\", \"hasn't\": \"has not\", \"haven't\": \"have not\",\n",
    "                           \"he'd\": \"he would\",\"he'll\": \"he will\", \"he's\": \"he is\", \"how'd\": \"how did\", \"how'd'y\": \"how do you\", \"how'll\": \"how will\", \"how's\": \"how is\",\n",
    "                           \"I'd\": \"I would\", \"I'd've\": \"I would have\", \"I'll\": \"I will\", \"I'll've\": \"I will have\",\"I'm\": \"I am\", \"I've\": \"I have\", \"i'd\": \"i would\",\n",
    "                           \"i'd've\": \"i would have\", \"i'll\": \"i will\",  \"i'll've\": \"i will have\",\"i'm\": \"i am\", \"i've\": \"i have\", \"isn't\": \"is not\", \"it'd\": \"it would\",\n",
    "                           \"it'd've\": \"it would have\", \"it'll\": \"it will\", \"it'll've\": \"it will have\",\"it's\": \"it is\", \"let's\": \"let us\", \"ma'am\": \"madam\",\n",
    "                           \"mayn't\": \"may not\", \"might've\": \"might have\",\"mightn't\": \"might not\",\"mightn't've\": \"might not have\", \"must've\": \"must have\",\n",
    "                           \"mustn't\": \"must not\", \"mustn't've\": \"must not have\", \"needn't\": \"need not\", \"needn't've\": \"need not have\",\"o'clock\": \"of the clock\",\n",
    "                           \"oughtn't\": \"ought not\", \"oughtn't've\": \"ought not have\", \"shan't\": \"shall not\", \"sha'n't\": \"shall not\", \"shan't've\": \"shall not have\",\n",
    "                           \"she'd\": \"she would\", \"she'd've\": \"she would have\", \"she'll\": \"she will\", \"she'll've\": \"she will have\", \"she's\": \"she is\",\n",
    "                           \"should've\": \"should have\", \"shouldn't\": \"should not\", \"shouldn't've\": \"should not have\", \"so've\": \"so have\",\"so's\": \"so as\",\n",
    "                           \"this's\": \"this is\",\"that'd\": \"that would\", \"that'd've\": \"that would have\", \"that's\": \"that is\", \"there'd\": \"there would\",\n",
    "                           \"there'd've\": \"there would have\", \"there's\": \"there is\", \"here's\": \"here is\",\"they'd\": \"they would\", \"they'd've\": \"they would have\",\n",
    "                           \"they'll\": \"they will\", \"they'll've\": \"they will have\", \"they're\": \"they are\", \"they've\": \"they have\", \"to've\": \"to have\",\n",
    "                           \"wasn't\": \"was not\", \"we'd\": \"we would\", \"we'd've\": \"we would have\", \"we'll\": \"we will\", \"we'll've\": \"we will have\", \"we're\": \"we are\",\n",
    "                           \"we've\": \"we have\", \"weren't\": \"were not\", \"what'll\": \"what will\", \"what'll've\": \"what will have\", \"what're\": \"what are\",\n",
    "                           \"what's\": \"what is\", \"what've\": \"what have\", \"when's\": \"when is\", \"when've\": \"when have\", \"where'd\": \"where did\", \"where's\": \"where is\",\n",
    "                           \"where've\": \"where have\", \"who'll\": \"who will\", \"who'll've\": \"who will have\", \"who's\": \"who is\", \"who've\": \"who have\",\n",
    "                           \"why's\": \"why is\", \"why've\": \"why have\", \"will've\": \"will have\", \"won't\": \"will not\", \"won't've\": \"will not have\",\n",
    "                           \"would've\": \"would have\", \"wouldn't\": \"would not\", \"wouldn't've\": \"would not have\", \"y'all\": \"you all\",\n",
    "                           \"y'all'd\": \"you all would\",\"y'all'd've\": \"you all would have\",\"y'all're\": \"you all are\",\"y'all've\": \"you all have\",\n",
    "                           \"you'd\": \"you would\", \"you'd've\": \"you would have\", \"you'll\": \"you will\", \"you'll've\": \"you will have\",\n",
    "                           \"you're\": \"you are\", \"you've\": \"you have\"}\n",
    "\n",
    "print(\"정규화 사전의 수: \", len(contractions))"
   ]
  },
  {
   "cell_type": "code",
   "execution_count": 8,
   "id": "f6d283c3",
   "metadata": {},
   "outputs": [
    {
     "name": "stdout",
     "output_type": "stream",
     "text": [
      "불용어 개수 : 179\n",
      "['i', 'me', 'my', 'myself', 'we', 'our', 'ours', 'ourselves', 'you', \"you're\", \"you've\", \"you'll\", \"you'd\", 'your', 'yours', 'yourself', 'yourselves', 'he', 'him', 'his', 'himself', 'she', \"she's\", 'her', 'hers', 'herself', 'it', \"it's\", 'its', 'itself', 'they', 'them', 'their', 'theirs', 'themselves', 'what', 'which', 'who', 'whom', 'this', 'that', \"that'll\", 'these', 'those', 'am', 'is', 'are', 'was', 'were', 'be', 'been', 'being', 'have', 'has', 'had', 'having', 'do', 'does', 'did', 'doing', 'a', 'an', 'the', 'and', 'but', 'if', 'or', 'because', 'as', 'until', 'while', 'of', 'at', 'by', 'for', 'with', 'about', 'against', 'between', 'into', 'through', 'during', 'before', 'after', 'above', 'below', 'to', 'from', 'up', 'down', 'in', 'out', 'on', 'off', 'over', 'under', 'again', 'further', 'then', 'once', 'here', 'there', 'when', 'where', 'why', 'how', 'all', 'any', 'both', 'each', 'few', 'more', 'most', 'other', 'some', 'such', 'no', 'nor', 'not', 'only', 'own', 'same', 'so', 'than', 'too', 'very', 's', 't', 'can', 'will', 'just', 'don', \"don't\", 'should', \"should've\", 'now', 'd', 'll', 'm', 'o', 're', 've', 'y', 'ain', 'aren', \"aren't\", 'couldn', \"couldn't\", 'didn', \"didn't\", 'doesn', \"doesn't\", 'hadn', \"hadn't\", 'hasn', \"hasn't\", 'haven', \"haven't\", 'isn', \"isn't\", 'ma', 'mightn', \"mightn't\", 'mustn', \"mustn't\", 'needn', \"needn't\", 'shan', \"shan't\", 'shouldn', \"shouldn't\", 'wasn', \"wasn't\", 'weren', \"weren't\", 'won', \"won't\", 'wouldn', \"wouldn't\"]\n"
     ]
    }
   ],
   "source": [
    "print('불용어 개수 :', len(stopwords.words('english') ))\n",
    "print(stopwords.words('english'))"
   ]
  },
  {
   "cell_type": "code",
   "execution_count": 9,
   "id": "76406a02",
   "metadata": {},
   "outputs": [],
   "source": [
    "# 데이터 전처리 함수\n",
    "def preprocess_sentence(sentence, remove_stopwords=True):\n",
    "    sentence = sentence.lower() # 텍스트 소문자화\n",
    "    sentence = BeautifulSoup(sentence, \"lxml\").text # <br />, <a href = ...> 등의 html 태그 제거\n",
    "    sentence = re.sub(r'\\([^)]*\\)', '', sentence) # 괄호로 닫힌 문자열 (...) 제거 Ex) my husband (and myself!) for => my husband for\n",
    "    sentence = re.sub('\"','', sentence) # 쌍따옴표 \" 제거\n",
    "    sentence = ' '.join([contractions[t] if t in contractions else t for t in sentence.split(\" \")]) # 약어 정규화\n",
    "    sentence = re.sub(r\"'s\\b\",\"\", sentence) # 소유격 제거. Ex) roland's -> roland\n",
    "    sentence = re.sub(\"[^a-zA-Z]\", \" \", sentence) # 영어 외 문자(숫자, 특수문자 등) 공백으로 변환\n",
    "    sentence = re.sub('[m]{2,}', 'mm', sentence) # m이 3개 이상이면 2개로 변경. Ex) ummmmmmm yeah -> umm yeah\n",
    "    \n",
    "    # 불용어 제거 (text)\n",
    "    if remove_stopwords:\n",
    "        tokens = ' '.join(word for word in sentence.split() if not word in stopwords.words('english') if len(word) > 1)\n",
    "    # 불용어 미제거 (headlines)\n",
    "    else:\n",
    "        tokens = ' '.join(word for word in sentence.split() if len(word) > 1)\n",
    "    return tokens"
   ]
  },
  {
   "cell_type": "code",
   "execution_count": 10,
   "id": "be206ff1",
   "metadata": {},
   "outputs": [
    {
     "name": "stdout",
     "output_type": "stream",
     "text": [
      "text 전처리 후 결과:  ['saurav kant alumnus upgrad iiit pg program machine learning artificial intelligence sr systems engineer infosys almost years work experience program upgrad degree career support helped transition data scientist tech mahindra salary hike upgrad online power learning powered lakh careers', 'kunal shah credit card bill payment platform cred gave users chance win free food swiggy one year pranav kaushik delhi techie bagged reward spending cred coins users get one cred coin per rupee bill paid used avail rewards brands like ixigo bookmyshow ubereats cult fit', 'new zealand defeated india wickets fourth odi hamilton thursday win first match five match odi series india lost international match rohit sharma captaincy consecutive victories dating back march match witnessed india getting seventh lowest total odi cricket history', 'aegon life iterm insurance plan customers enjoy tax benefits premiums paid save taxes plan provides life cover age years also customers options insure critical illnesses disability accidental death benefit rider life cover age years', 'speaking sexual harassment allegations rajkumar hirani sonam kapoor said known hirani many years true metoo movement get derailed metoo movement always believe woman case need reserve judgment added hirani accused assistant worked sanju']\n"
     ]
    }
   ],
   "source": [
    "clean_text = []\n",
    "# 전체 text 데이터에 대한 전처리 : 10분 이상 시간이 걸릴 수 있다. \n",
    "for s in data['text']:\n",
    "    clean_text.append(preprocess_sentence(s))\n",
    "\n",
    "# 전처리 후 출력\n",
    "print(\"text 전처리 후 결과: \", clean_text[:5])"
   ]
  },
  {
   "cell_type": "code",
   "execution_count": 11,
   "id": "26a56dd6",
   "metadata": {},
   "outputs": [
    {
     "name": "stdout",
     "output_type": "stream",
     "text": [
      "headlines 전처리 후 결과:  ['upgrad learner switches to career in ml al with salary hike', 'delhi techie wins free food from swiggy for one year on cred', 'new zealand end rohit sharma led india match winning streak', 'aegon life iterm insurance plan helps customers save tax', 'have known hirani for yrs what if metoo claims are not true sonam']\n"
     ]
    }
   ],
   "source": [
    "clean_headlines = []\n",
    "# 전체 Summary 데이터에 대한 전처리 : 5분 이상 시간이 걸릴 수 있다. \n",
    "for s in data['headlines']:\n",
    "    clean_headlines.append(preprocess_sentence(s, False))\n",
    "\n",
    "print(\"headlines 전처리 후 결과: \", clean_headlines[:5])"
   ]
  },
  {
   "cell_type": "code",
   "execution_count": 12,
   "id": "79eed6b3",
   "metadata": {},
   "outputs": [],
   "source": [
    "# empty 확인하고 Null로 대체\n",
    "data['text'] = clean_text\n",
    "data['headlines'] = clean_headlines\n",
    "\n",
    "# 빈 값을 Null 값으로 변환\n",
    "data.replace('', np.nan, inplace=True)"
   ]
  },
  {
   "cell_type": "code",
   "execution_count": 13,
   "id": "f504eabc",
   "metadata": {},
   "outputs": [
    {
     "data": {
      "text/plain": [
       "headlines    0\n",
       "text         0\n",
       "dtype: int64"
      ]
     },
     "execution_count": 13,
     "metadata": {},
     "output_type": "execute_result"
    }
   ],
   "source": [
    "data.isnull().sum()"
   ]
  },
  {
   "cell_type": "markdown",
   "id": "779e7d94",
   "metadata": {},
   "source": [
    "## (4) 샘플의 최대 길이 정하기"
   ]
  },
  {
   "cell_type": "code",
   "execution_count": 14,
   "id": "9dfde3e6",
   "metadata": {},
   "outputs": [
    {
     "name": "stdout",
     "output_type": "stream",
     "text": [
      "텍스트의 최소 길이 : 1\n",
      "텍스트의 최대 길이 : 60\n",
      "텍스트의 평균 길이 : 35.09968483123221\n",
      "헤드라인의 최소 길이 : 1\n",
      "헤드라인의 최대 길이 : 16\n",
      "헤드라인의 평균 길이 : 9.299532330215534\n"
     ]
    },
    {
     "data": {
      "image/png": "[encoded data removed]",
      "text/plain": [
       "<Figure size 432x288 with 2 Axes>"
      ]
     },
     "metadata": {
      "needs_background": "light"
     },
     "output_type": "display_data"
    },
    {
     "data": {
      "image/png": "[encoded data removed]",
      "text/plain": [
       "<Figure size 432x288 with 1 Axes>"
      ]
     },
     "metadata": {
      "needs_background": "light"
     },
     "output_type": "display_data"
    },
    {
     "data": {
      "image/png": "[encoded data removed]",
      "text/plain": [
       "<Figure size 432x288 with 1 Axes>"
      ]
     },
     "metadata": {
      "needs_background": "light"
     },
     "output_type": "display_data"
    }
   ],
   "source": [
    "# 길이 분포 출력\n",
    "import matplotlib.pyplot as plt\n",
    "\n",
    "text_len = [len(s.split()) for s in data['text']]\n",
    "headlines_len = [len(s.split()) for s in data['headlines']]\n",
    "\n",
    "print('텍스트의 최소 길이 : {}'.format(np.min(text_len)))\n",
    "print('텍스트의 최대 길이 : {}'.format(np.max(text_len)))\n",
    "print('텍스트의 평균 길이 : {}'.format(np.mean(text_len)))\n",
    "print('헤드라인의 최소 길이 : {}'.format(np.min(headlines_len)))\n",
    "print('헤드라인의 최대 길이 : {}'.format(np.max(headlines_len)))\n",
    "print('헤드라인의 평균 길이 : {}'.format(np.mean(headlines_len)))\n",
    "\n",
    "plt.subplot(1,2,1)\n",
    "plt.boxplot(text_len)\n",
    "plt.title('text')\n",
    "plt.subplot(1,2,2)\n",
    "plt.boxplot(headlines_len)\n",
    "plt.title('headlines')\n",
    "plt.tight_layout()\n",
    "plt.show()\n",
    "\n",
    "plt.title('text')\n",
    "plt.hist(text_len, bins = 40)\n",
    "plt.xlabel('length of samples')\n",
    "plt.ylabel('number of samples')\n",
    "plt.show()\n",
    "\n",
    "plt.title('headlines')\n",
    "plt.hist(headlines_len, bins = 40)\n",
    "plt.xlabel('length of samples')\n",
    "plt.ylabel('number of samples')\n",
    "plt.show()"
   ]
  },
  {
   "cell_type": "code",
   "execution_count": 15,
   "id": "0072c357",
   "metadata": {},
   "outputs": [],
   "source": [
    "text_max_len = 42\n",
    "headlines_max_len = 12"
   ]
  },
  {
   "cell_type": "code",
   "execution_count": 16,
   "id": "91597d8a",
   "metadata": {},
   "outputs": [],
   "source": [
    "def below_threshold_len(max_len, nested_list):\n",
    "  cnt = 0\n",
    "  for s in nested_list:\n",
    "    if(len(s.split()) <= max_len):\n",
    "        cnt = cnt + 1\n",
    "  print('전체 샘플 중 길이가 %s 이하인 샘플의 비율: %s'%(max_len, (cnt / len(nested_list))))"
   ]
  },
  {
   "cell_type": "code",
   "execution_count": 17,
   "id": "664d62be",
   "metadata": {},
   "outputs": [
    {
     "name": "stdout",
     "output_type": "stream",
     "text": [
      "전체 샘플 중 길이가 42 이하인 샘플의 비율: 0.9750305002033347\n",
      "전체 샘플 중 길이가 12 이하인 샘플의 비율: 0.9880337535583571\n"
     ]
    }
   ],
   "source": [
    "below_threshold_len(text_max_len, data['text'])\n",
    "below_threshold_len(headlines_max_len,  data['headlines'])"
   ]
  },
  {
   "cell_type": "code",
   "execution_count": 18,
   "id": "bccaf794",
   "metadata": {},
   "outputs": [
    {
     "name": "stdout",
     "output_type": "stream",
     "text": [
      "전체 샘플수 : 94754\n"
     ]
    }
   ],
   "source": [
    "data = data[data['text'].apply(lambda x: len(x.split()) <= text_max_len)]\n",
    "data = data[data['headlines'].apply(lambda x: len(x.split()) <= headlines_max_len)]\n",
    "print('전체 샘플수 :', (len(data)))"
   ]
  },
  {
   "cell_type": "markdown",
   "id": "319cbdaf",
   "metadata": {},
   "source": [
    "## (5) 시작 토큰과 종료 토큰 추가하기"
   ]
  },
  {
   "cell_type": "code",
   "execution_count": 19,
   "id": "2c5b98b8",
   "metadata": {},
   "outputs": [
    {
     "data": {
      "text/html": [
       "<div>\n",
       "<style scoped>\n",
       "    .dataframe tbody tr th:only-of-type {\n",
       "        vertical-align: middle;\n",
       "    }\n",
       "\n",
       "    .dataframe tbody tr th {\n",
       "        vertical-align: top;\n",
       "    }\n",
       "\n",
       "    .dataframe thead th {\n",
       "        text-align: right;\n",
       "    }\n",
       "</style>\n",
       "<table border=\"1\" class=\"dataframe\">\n",
       "  <thead>\n",
       "    <tr style=\"text-align: right;\">\n",
       "      <th></th>\n",
       "      <th>headlines</th>\n",
       "      <th>text</th>\n",
       "      <th>decoder_input</th>\n",
       "      <th>decoder_target</th>\n",
       "    </tr>\n",
       "  </thead>\n",
       "  <tbody>\n",
       "    <tr>\n",
       "      <th>0</th>\n",
       "      <td>upgrad learner switches to career in ml al wit...</td>\n",
       "      <td>saurav kant alumnus upgrad iiit pg program mac...</td>\n",
       "      <td>sostoken upgrad learner switches to career in ...</td>\n",
       "      <td>upgrad learner switches to career in ml al wit...</td>\n",
       "    </tr>\n",
       "    <tr>\n",
       "      <th>2</th>\n",
       "      <td>new zealand end rohit sharma led india match w...</td>\n",
       "      <td>new zealand defeated india wickets fourth odi ...</td>\n",
       "      <td>sostoken new zealand end rohit sharma led indi...</td>\n",
       "      <td>new zealand end rohit sharma led india match w...</td>\n",
       "    </tr>\n",
       "    <tr>\n",
       "      <th>3</th>\n",
       "      <td>aegon life iterm insurance plan helps customer...</td>\n",
       "      <td>aegon life iterm insurance plan customers enjo...</td>\n",
       "      <td>sostoken aegon life iterm insurance plan helps...</td>\n",
       "      <td>aegon life iterm insurance plan helps customer...</td>\n",
       "    </tr>\n",
       "    <tr>\n",
       "      <th>5</th>\n",
       "      <td>rahat fateh ali khan denies getting notice for...</td>\n",
       "      <td>pakistani singer rahat fateh ali khan denied r...</td>\n",
       "      <td>sostoken rahat fateh ali khan denies getting n...</td>\n",
       "      <td>rahat fateh ali khan denies getting notice for...</td>\n",
       "    </tr>\n",
       "    <tr>\n",
       "      <th>6</th>\n",
       "      <td>india get all out for their lowest odi total i...</td>\n",
       "      <td>india recorded lowest odi total new zealand ge...</td>\n",
       "      <td>sostoken india get all out for their lowest od...</td>\n",
       "      <td>india get all out for their lowest odi total i...</td>\n",
       "    </tr>\n",
       "  </tbody>\n",
       "</table>\n",
       "</div>"
      ],
      "text/plain": [
       "                                           headlines  \\\n",
       "0  upgrad learner switches to career in ml al wit...   \n",
       "2  new zealand end rohit sharma led india match w...   \n",
       "3  aegon life iterm insurance plan helps customer...   \n",
       "5  rahat fateh ali khan denies getting notice for...   \n",
       "6  india get all out for their lowest odi total i...   \n",
       "\n",
       "                                                text  \\\n",
       "0  saurav kant alumnus upgrad iiit pg program mac...   \n",
       "2  new zealand defeated india wickets fourth odi ...   \n",
       "3  aegon life iterm insurance plan customers enjo...   \n",
       "5  pakistani singer rahat fateh ali khan denied r...   \n",
       "6  india recorded lowest odi total new zealand ge...   \n",
       "\n",
       "                                       decoder_input  \\\n",
       "0  sostoken upgrad learner switches to career in ...   \n",
       "2  sostoken new zealand end rohit sharma led indi...   \n",
       "3  sostoken aegon life iterm insurance plan helps...   \n",
       "5  sostoken rahat fateh ali khan denies getting n...   \n",
       "6  sostoken india get all out for their lowest od...   \n",
       "\n",
       "                                      decoder_target  \n",
       "0  upgrad learner switches to career in ml al wit...  \n",
       "2  new zealand end rohit sharma led india match w...  \n",
       "3  aegon life iterm insurance plan helps customer...  \n",
       "5  rahat fateh ali khan denies getting notice for...  \n",
       "6  india get all out for their lowest odi total i...  "
      ]
     },
     "execution_count": 19,
     "metadata": {},
     "output_type": "execute_result"
    }
   ],
   "source": [
    "# 요약 데이터에는 시작 토큰과 종료 토큰을 추가한다.\n",
    "data['decoder_input'] = data['headlines'].apply(lambda x : 'sostoken '+ x)\n",
    "data['decoder_target'] = data['headlines'].apply(lambda x : x + ' eostoken')\n",
    "data.head()"
   ]
  },
  {
   "cell_type": "code",
   "execution_count": 20,
   "id": "0d0aeb47",
   "metadata": {},
   "outputs": [],
   "source": [
    "encoder_input = np.array(data['text']) # 인코더의 입력\n",
    "decoder_input = np.array(data['decoder_input']) # 디코더의 입력\n",
    "decoder_target = np.array(data['decoder_target']) # 디코더의 레이블"
   ]
  },
  {
   "cell_type": "markdown",
   "id": "90a53d1c",
   "metadata": {},
   "source": [
    "## (6) 훈련 데이터, 테스트 데이터 분리"
   ]
  },
  {
   "cell_type": "code",
   "execution_count": 21,
   "id": "0f3bcc4b",
   "metadata": {},
   "outputs": [
    {
     "name": "stdout",
     "output_type": "stream",
     "text": [
      "[18550 23735 82376 ... 58862 11299 27218]\n"
     ]
    }
   ],
   "source": [
    "indices = np.arange(encoder_input.shape[0])\n",
    "np.random.shuffle(indices)\n",
    "print(indices)"
   ]
  },
  {
   "cell_type": "code",
   "execution_count": 22,
   "id": "3e31a96d",
   "metadata": {},
   "outputs": [],
   "source": [
    "encoder_input = encoder_input[indices]\n",
    "decoder_input = decoder_input[indices]\n",
    "decoder_target = decoder_target[indices]"
   ]
  },
  {
   "cell_type": "code",
   "execution_count": 23,
   "id": "6ea2fcaa",
   "metadata": {},
   "outputs": [
    {
     "name": "stdout",
     "output_type": "stream",
     "text": [
      "테스트 데이터의 수 : 18950\n"
     ]
    }
   ],
   "source": [
    "n_of_val = int(len(encoder_input)*0.2)\n",
    "print('테스트 데이터의 수 :', n_of_val)"
   ]
  },
  {
   "cell_type": "code",
   "execution_count": 24,
   "id": "04f41f12",
   "metadata": {},
   "outputs": [
    {
     "name": "stdout",
     "output_type": "stream",
     "text": [
      "훈련 데이터의 개수 : 75804\n",
      "훈련 레이블의 개수 : 75804\n",
      "테스트 데이터의 개수 : 18950\n",
      "테스트 레이블의 개수 : 18950\n"
     ]
    }
   ],
   "source": [
    "encoder_input_train = encoder_input[:-n_of_val]\n",
    "decoder_input_train = decoder_input[:-n_of_val]\n",
    "decoder_target_train = decoder_target[:-n_of_val]\n",
    "\n",
    "encoder_input_test = encoder_input[-n_of_val:]\n",
    "decoder_input_test = decoder_input[-n_of_val:]\n",
    "decoder_target_test = decoder_target[-n_of_val:]\n",
    "\n",
    "print('훈련 데이터의 개수 :', len(encoder_input_train))\n",
    "print('훈련 레이블의 개수 :', len(decoder_input_train))\n",
    "print('테스트 데이터의 개수 :', len(encoder_input_test))\n",
    "print('테스트 레이블의 개수 :', len(decoder_input_test))"
   ]
  },
  {
   "cell_type": "markdown",
   "id": "d72d8be7",
   "metadata": {},
   "source": [
    "## (7) 정수 인코딩"
   ]
  },
  {
   "cell_type": "code",
   "execution_count": 25,
   "id": "8a81d9a2",
   "metadata": {},
   "outputs": [],
   "source": [
    "src_tokenizer = Tokenizer() # 토크나이저 정의\n",
    "src_tokenizer.fit_on_texts(encoder_input_train) # 입력된 데이터로부터 단어 집합 생성"
   ]
  },
  {
   "cell_type": "code",
   "execution_count": 26,
   "id": "2c66abf4",
   "metadata": {},
   "outputs": [
    {
     "name": "stdout",
     "output_type": "stream",
     "text": [
      "단어 집합(vocabulary)의 크기 : 67899\n",
      "등장 빈도가 6번 이하인 희귀 단어의 수: 46228\n",
      "단어 집합에서 희귀 단어를 제외시킬 경우의 단어 집합의 크기 21671\n",
      "단어 집합에서 희귀 단어의 비율: 68.08347692896803\n",
      "전체 등장 빈도에서 희귀 단어 등장 빈도 비율: 3.5528404797580784\n"
     ]
    }
   ],
   "source": [
    "threshold = 7\n",
    "total_cnt = len(src_tokenizer.word_index) # 단어의 수\n",
    "rare_cnt = 0 # 등장 빈도수가 threshold보다 작은 단어의 개수를 카운트\n",
    "total_freq = 0 # 훈련 데이터의 전체 단어 빈도수 총 합\n",
    "rare_freq = 0 # 등장 빈도수가 threshold보다 작은 단어의 등장 빈도수의 총 합\n",
    "\n",
    "# 단어와 빈도수의 쌍(pair)을 key와 value로 받는다.\n",
    "for key, value in src_tokenizer.word_counts.items():\n",
    "    total_freq = total_freq + value\n",
    "\n",
    "    # 단어의 등장 빈도수가 threshold보다 작으면\n",
    "    if(value < threshold):\n",
    "        rare_cnt = rare_cnt + 1\n",
    "        rare_freq = rare_freq + value\n",
    "\n",
    "print('단어 집합(vocabulary)의 크기 :', total_cnt)\n",
    "print('등장 빈도가 %s번 이하인 희귀 단어의 수: %s'%(threshold - 1, rare_cnt))\n",
    "print('단어 집합에서 희귀 단어를 제외시킬 경우의 단어 집합의 크기 %s'%(total_cnt - rare_cnt))\n",
    "print(\"단어 집합에서 희귀 단어의 비율:\", (rare_cnt / total_cnt)*100)\n",
    "print(\"전체 등장 빈도에서 희귀 단어 등장 빈도 비율:\", (rare_freq / total_freq)*100)"
   ]
  },
  {
   "cell_type": "code",
   "execution_count": 27,
   "id": "e51008f5",
   "metadata": {},
   "outputs": [],
   "source": [
    "src_vocab = total_cnt - rare_cnt\n",
    "src_tokenizer = Tokenizer(num_words=src_vocab) # 단어 집합의 크기를 8,000으로 제한\n",
    "src_tokenizer.fit_on_texts(encoder_input_train) # 단어 집합 재생성"
   ]
  },
  {
   "cell_type": "code",
   "execution_count": 28,
   "id": "39b53a68",
   "metadata": {},
   "outputs": [
    {
     "name": "stdout",
     "output_type": "stream",
     "text": [
      "[[190, 62, 192, 25, 3197, 152, 105, 642, 26, 2442, 66, 565, 446, 1619, 704, 26, 3388, 3712, 152, 105, 1497, 1092, 1017, 26, 271, 26, 1102, 872, 524, 120, 889, 105, 820, 1619], [2, 5, 1090, 5496, 2452, 126, 2, 1104, 591, 15, 1914, 1427, 451, 15, 2991, 2498, 5, 6963, 25, 27, 411, 5, 33, 4150, 2452, 2973, 106, 229, 462, 433, 21, 1625, 5279, 112, 841, 174, 257], [611, 3294, 180, 465, 72, 9, 909, 1684, 1479, 2550, 3294, 40, 465, 6228, 1206, 1117, 2659, 4707, 909, 281, 14, 15013, 901, 828, 4302, 155, 1117, 38, 917, 3981, 3339, 627, 18, 504, 3294]]\n"
     ]
    }
   ],
   "source": [
    "# 텍스트 시퀀스를 정수 시퀀스로 변환\n",
    "encoder_input_train = src_tokenizer.texts_to_sequences(encoder_input_train) \n",
    "encoder_input_test = src_tokenizer.texts_to_sequences(encoder_input_test)\n",
    "\n",
    "# 잘 진행되었는지 샘플 출력\n",
    "print(encoder_input_train[:3])"
   ]
  },
  {
   "cell_type": "code",
   "execution_count": 29,
   "id": "cd4a2264",
   "metadata": {},
   "outputs": [],
   "source": [
    "tar_tokenizer = Tokenizer()\n",
    "tar_tokenizer.fit_on_texts(decoder_input_train)"
   ]
  },
  {
   "cell_type": "code",
   "execution_count": 30,
   "id": "aa387fc8",
   "metadata": {},
   "outputs": [
    {
     "name": "stdout",
     "output_type": "stream",
     "text": [
      "단어 집합(vocabulary)의 크기 : 29580\n",
      "등장 빈도가 5번 이하인 희귀 단어의 수: 19315\n",
      "단어 집합에서 희귀 단어를 제외시킬 경우의 단어 집합의 크기 10265\n",
      "단어 집합에서 희귀 단어의 비율: 65.2974983096687\n",
      "전체 등장 빈도에서 희귀 단어 등장 빈도 비율: 4.749349197096447\n"
     ]
    }
   ],
   "source": [
    "threshold = 6\n",
    "total_cnt = len(tar_tokenizer.word_index) # 단어의 수\n",
    "rare_cnt = 0 # 등장 빈도수가 threshold보다 작은 단어의 개수를 카운트\n",
    "total_freq = 0 # 훈련 데이터의 전체 단어 빈도수 총 합\n",
    "rare_freq = 0 # 등장 빈도수가 threshold보다 작은 단어의 등장 빈도수의 총 합\n",
    "\n",
    "# 단어와 빈도수의 쌍(pair)을 key와 value로 받는다.\n",
    "for key, value in tar_tokenizer.word_counts.items():\n",
    "    total_freq = total_freq + value\n",
    "\n",
    "    # 단어의 등장 빈도수가 threshold보다 작으면\n",
    "    if(value < threshold):\n",
    "        rare_cnt = rare_cnt + 1\n",
    "        rare_freq = rare_freq + value\n",
    "\n",
    "print('단어 집합(vocabulary)의 크기 :', total_cnt)\n",
    "print('등장 빈도가 %s번 이하인 희귀 단어의 수: %s'%(threshold - 1, rare_cnt))\n",
    "print('단어 집합에서 희귀 단어를 제외시킬 경우의 단어 집합의 크기 %s'%(total_cnt - rare_cnt))\n",
    "print(\"단어 집합에서 희귀 단어의 비율:\", (rare_cnt / total_cnt)*100)\n",
    "print(\"전체 등장 빈도에서 희귀 단어 등장 빈도 비율:\", (rare_freq / total_freq)*100)"
   ]
  },
  {
   "cell_type": "code",
   "execution_count": 31,
   "id": "d5860ced",
   "metadata": {},
   "outputs": [
    {
     "name": "stdout",
     "output_type": "stream",
     "text": [
      "input\n",
      "input  [[1, 100, 189, 2595, 3, 192, 150, 55, 1307, 7, 1053], [1, 8, 15, 3, 719, 9363, 457, 7, 3075, 4, 38, 27], [1, 61, 903, 41, 421, 14, 1803, 6, 58], [1, 1535, 67, 3076, 170, 4002, 218, 1827], [1, 121, 149, 11, 2491, 18, 7045, 2034, 7, 1671, 241]]\n",
      "target\n",
      "decoder  [[100, 189, 2595, 3, 192, 150, 55, 1307, 7, 1053, 2], [8, 15, 3, 719, 9363, 457, 7, 3075, 4, 38, 27, 2], [61, 903, 41, 421, 14, 1803, 6, 58, 2], [1535, 67, 3076, 170, 4002, 218, 1827, 2], [121, 149, 11, 2491, 18, 7045, 2034, 7, 1671, 241, 2]]\n"
     ]
    }
   ],
   "source": [
    "tar_vocab = total_cnt - rare_cnt\n",
    "tar_tokenizer = Tokenizer(num_words=tar_vocab) \n",
    "tar_tokenizer.fit_on_texts(decoder_input_train)\n",
    "tar_tokenizer.fit_on_texts(decoder_target_train)\n",
    "\n",
    "# 텍스트 시퀀스를 정수 시퀀스로 변환\n",
    "decoder_input_train = tar_tokenizer.texts_to_sequences(decoder_input_train) \n",
    "decoder_target_train = tar_tokenizer.texts_to_sequences(decoder_target_train)\n",
    "decoder_input_test = tar_tokenizer.texts_to_sequences(decoder_input_test)\n",
    "decoder_target_test = tar_tokenizer.texts_to_sequences(decoder_target_test)\n",
    "\n",
    "# 잘 변환되었는지 확인\n",
    "print('input')\n",
    "print('input ',decoder_input_train[:5])\n",
    "print('target')\n",
    "print('decoder ',decoder_target_train[:5])"
   ]
  },
  {
   "cell_type": "code",
   "execution_count": 33,
   "id": "36359076",
   "metadata": {},
   "outputs": [
    {
     "name": "stdout",
     "output_type": "stream",
     "text": [
      "삭제할 훈련 데이터의 개수 : 0\n",
      "삭제할 테스트 데이터의 개수 : 0\n",
      "훈련 데이터의 개수 : 75803\n",
      "훈련 레이블의 개수 : 75803\n",
      "테스트 데이터의 개수 : 18950\n",
      "테스트 레이블의 개수 : 18950\n"
     ]
    }
   ],
   "source": [
    "drop_train = [index for index, sentence in enumerate(decoder_input_train) if len(sentence) == 1]\n",
    "drop_test = [index for index, sentence in enumerate(decoder_input_test) if len(sentence) == 1]\n",
    "\n",
    "print('삭제할 훈련 데이터의 개수 :', len(drop_train))\n",
    "print('삭제할 테스트 데이터의 개수 :', len(drop_test))\n",
    "\n",
    "encoder_input_train = [sentence for index, sentence in enumerate(encoder_input_train) if index not in drop_train]\n",
    "decoder_input_train = [sentence for index, sentence in enumerate(decoder_input_train) if index not in drop_train]\n",
    "decoder_target_train = [sentence for index, sentence in enumerate(decoder_target_train) if index not in drop_train]\n",
    "\n",
    "encoder_input_test = [sentence for index, sentence in enumerate(encoder_input_test) if index not in drop_test]\n",
    "decoder_input_test = [sentence for index, sentence in enumerate(decoder_input_test) if index not in drop_test]\n",
    "decoder_target_test = [sentence for index, sentence in enumerate(decoder_target_test) if index not in drop_test]\n",
    "\n",
    "print('훈련 데이터의 개수 :', len(encoder_input_train))\n",
    "print('훈련 레이블의 개수 :', len(decoder_input_train))\n",
    "print('테스트 데이터의 개수 :', len(encoder_input_test))\n",
    "print('테스트 레이블의 개수 :', len(decoder_input_test))"
   ]
  },
  {
   "cell_type": "markdown",
   "id": "d29dbbf6",
   "metadata": {},
   "source": [
    "## (8) 패딩하기"
   ]
  },
  {
   "cell_type": "code",
   "execution_count": 34,
   "id": "ec3c574b",
   "metadata": {},
   "outputs": [],
   "source": [
    "encoder_input_train = pad_sequences(encoder_input_train, maxlen=text_max_len, padding='post')\n",
    "encoder_input_test = pad_sequences(encoder_input_test, maxlen=text_max_len, padding='post')\n",
    "decoder_input_train = pad_sequences(decoder_input_train, maxlen=headlines_max_len, padding='post')\n",
    "decoder_target_train = pad_sequences(decoder_target_train, maxlen=headlines_max_len, padding='post')\n",
    "decoder_input_test = pad_sequences(decoder_input_test, maxlen=headlines_max_len, padding='post')\n",
    "decoder_target_test = pad_sequences(decoder_target_test, maxlen=headlines_max_len, padding='post')"
   ]
  },
  {
   "cell_type": "markdown",
   "id": "92845ad4",
   "metadata": {},
   "source": [
    "# 3. 어텐션 메커니즘 사용하기"
   ]
  },
  {
   "cell_type": "markdown",
   "id": "0fd81a27",
   "metadata": {},
   "source": [
    "## (1) 모델 정의"
   ]
  },
  {
   "cell_type": "code",
   "execution_count": 35,
   "id": "38a12094",
   "metadata": {},
   "outputs": [
    {
     "name": "stdout",
     "output_type": "stream",
     "text": [
      "WARNING:tensorflow:Layer lstm will not use cuDNN kernels since it doesn't meet the criteria. It will use a generic GPU kernel as fallback when running on GPU.\n",
      "WARNING:tensorflow:Layer lstm_1 will not use cuDNN kernels since it doesn't meet the criteria. It will use a generic GPU kernel as fallback when running on GPU.\n",
      "WARNING:tensorflow:Layer lstm_2 will not use cuDNN kernels since it doesn't meet the criteria. It will use a generic GPU kernel as fallback when running on GPU.\n",
      "WARNING:tensorflow:Layer lstm_3 will not use cuDNN kernels since it doesn't meet the criteria. It will use a generic GPU kernel as fallback when running on GPU.\n",
      "Model: \"model\"\n",
      "__________________________________________________________________________________________________\n",
      "Layer (type)                    Output Shape         Param #     Connected to                     \n",
      "==================================================================================================\n",
      "input_1 (InputLayer)            [(None, 42)]         0                                            \n",
      "__________________________________________________________________________________________________\n",
      "embedding (Embedding)           (None, 42, 128)      2773888     input_1[0][0]                    \n",
      "__________________________________________________________________________________________________\n",
      "lstm (LSTM)                     [(None, 42, 256), (N 394240      embedding[0][0]                  \n",
      "__________________________________________________________________________________________________\n",
      "input_2 (InputLayer)            [(None, None)]       0                                            \n",
      "__________________________________________________________________________________________________\n",
      "lstm_1 (LSTM)                   [(None, 42, 256), (N 525312      lstm[0][0]                       \n",
      "__________________________________________________________________________________________________\n",
      "embedding_1 (Embedding)         (None, None, 128)    1313920     input_2[0][0]                    \n",
      "__________________________________________________________________________________________________\n",
      "lstm_2 (LSTM)                   [(None, 42, 256), (N 525312      lstm_1[0][0]                     \n",
      "__________________________________________________________________________________________________\n",
      "lstm_3 (LSTM)                   [(None, None, 256),  394240      embedding_1[0][0]                \n",
      "                                                                 lstm_2[0][1]                     \n",
      "                                                                 lstm_2[0][2]                     \n",
      "__________________________________________________________________________________________________\n",
      "attention_layer (AdditiveAttent (None, None, 256)    256         lstm_3[0][0]                     \n",
      "                                                                 lstm_2[0][0]                     \n",
      "__________________________________________________________________________________________________\n",
      "concat_layer (Concatenate)      (None, None, 512)    0           lstm_3[0][0]                     \n",
      "                                                                 attention_layer[0][0]            \n",
      "__________________________________________________________________________________________________\n",
      "dense_1 (Dense)                 (None, None, 10265)  5265945     concat_layer[0][0]               \n",
      "==================================================================================================\n",
      "Total params: 11,193,113\n",
      "Trainable params: 11,193,113\n",
      "Non-trainable params: 0\n",
      "__________________________________________________________________________________________________\n"
     ]
    }
   ],
   "source": [
    "from tensorflow.keras.layers import Input, LSTM, Embedding, Dense, Concatenate, TimeDistributed\n",
    "from tensorflow.keras.models import Model\n",
    "from tensorflow.keras.callbacks import EarlyStopping, ModelCheckpoint\n",
    "from tensorflow.keras.layers import AdditiveAttention\n",
    "\n",
    "\n",
    "# 인코더 설계 시작\n",
    "embedding_dim = 128\n",
    "hidden_size = 256\n",
    "\n",
    "# 인코더\n",
    "encoder_inputs = Input(shape=(text_max_len,))\n",
    "\n",
    "# 인코더의 임베딩 층\n",
    "enc_emb = Embedding(src_vocab, embedding_dim)(encoder_inputs)\n",
    "\n",
    "# 인코더의 LSTM 1\n",
    "encoder_lstm1 = LSTM(hidden_size, return_sequences=True, return_state=True ,dropout = 0.4, recurrent_dropout = 0.4)\n",
    "encoder_output1, state_h1, state_c1 = encoder_lstm1(enc_emb)\n",
    "\n",
    "# 인코더의 LSTM 2\n",
    "encoder_lstm2 = LSTM(hidden_size, return_sequences=True, return_state=True, dropout=0.4, recurrent_dropout=0.4)\n",
    "encoder_output2, state_h2, state_c2 = encoder_lstm2(encoder_output1)\n",
    "\n",
    "# 인코더의 LSTM 3\n",
    "encoder_lstm3 = LSTM(hidden_size, return_state=True, return_sequences=True, dropout=0.4, recurrent_dropout=0.4)\n",
    "encoder_outputs, state_h, state_c= encoder_lstm3(encoder_output2)\n",
    "\n",
    "# 디코더 설계\n",
    "decoder_inputs = Input(shape=(None,))\n",
    "\n",
    "# 디코더의 임베딩 층\n",
    "dec_emb_layer = Embedding(tar_vocab, embedding_dim)\n",
    "dec_emb = dec_emb_layer(decoder_inputs)\n",
    "\n",
    "# 디코더의 LSTM\n",
    "decoder_lstm = LSTM(hidden_size, return_sequences=True, return_state=True, dropout=0.4, recurrent_dropout=0.2)\n",
    "decoder_outputs, _, _ = decoder_lstm(dec_emb, initial_state=[state_h, state_c])\n",
    "\n",
    "# 디코더의 출력층\n",
    "decoder_softmax_layer = Dense(tar_vocab, activation='softmax')\n",
    "decoder_softmax_outputs = decoder_softmax_layer(decoder_outputs) \n",
    "\n",
    "# 어텐션 층(어텐션 함수)\n",
    "attn_layer = AdditiveAttention(name='attention_layer')\n",
    "\n",
    "# 인코더와 디코더의 모든 time step의 hidden state를 어텐션 층에 전달하고 결과를 리턴\n",
    "attn_out = attn_layer([decoder_outputs, encoder_outputs])\n",
    "\n",
    "# 어텐션의 결과와 디코더의 hidden state들을 연결\n",
    "decoder_concat_input = Concatenate(axis=-1, name='concat_layer')([decoder_outputs, attn_out])\n",
    "\n",
    "# 디코더의 출력층\n",
    "decoder_softmax_layer = Dense(tar_vocab, activation='softmax')\n",
    "decoder_softmax_outputs = decoder_softmax_layer(decoder_concat_input)\n",
    "\n",
    "# 모델 정의\n",
    "model = Model([encoder_inputs, decoder_inputs], decoder_softmax_outputs)\n",
    "model.summary()"
   ]
  },
  {
   "cell_type": "markdown",
   "id": "d0fbfdee",
   "metadata": {},
   "source": [
    "## (2) 모델 훈련"
   ]
  },
  {
   "cell_type": "code",
   "execution_count": 36,
   "id": "8d70053e",
   "metadata": {},
   "outputs": [
    {
     "name": "stdout",
     "output_type": "stream",
     "text": [
      "Epoch 1/50\n",
      "297/297 [==============================] - 199s 614ms/step - loss: 5.6449 - val_loss: 5.2296\n",
      "Epoch 2/50\n",
      "297/297 [==============================] - 181s 610ms/step - loss: 5.0822 - val_loss: 4.8858\n",
      "Epoch 3/50\n",
      "297/297 [==============================] - 182s 612ms/step - loss: 4.7388 - val_loss: 4.6295\n",
      "Epoch 4/50\n",
      "297/297 [==============================] - 182s 612ms/step - loss: 4.4688 - val_loss: 4.4132\n",
      "Epoch 5/50\n",
      "297/297 [==============================] - 182s 613ms/step - loss: 4.2613 - val_loss: 4.2724\n",
      "Epoch 6/50\n",
      "297/297 [==============================] - 184s 618ms/step - loss: 4.0926 - val_loss: 4.1717\n",
      "Epoch 7/50\n",
      "297/297 [==============================] - 182s 612ms/step - loss: 3.9504 - val_loss: 4.0825\n",
      "Epoch 8/50\n",
      "297/297 [==============================] - 181s 608ms/step - loss: 3.8270 - val_loss: 3.9982\n",
      "Epoch 9/50\n",
      "297/297 [==============================] - 178s 601ms/step - loss: 3.7165 - val_loss: 3.9281\n",
      "Epoch 10/50\n",
      "297/297 [==============================] - 175s 589ms/step - loss: 3.6190 - val_loss: 3.8818\n",
      "Epoch 11/50\n",
      "297/297 [==============================] - 175s 589ms/step - loss: 3.5313 - val_loss: 3.8384\n",
      "Epoch 12/50\n",
      "297/297 [==============================] - 176s 593ms/step - loss: 3.4555 - val_loss: 3.8025\n",
      "Epoch 13/50\n",
      "297/297 [==============================] - 175s 591ms/step - loss: 3.3832 - val_loss: 3.7757\n",
      "Epoch 14/50\n",
      "297/297 [==============================] - 177s 595ms/step - loss: 3.3153 - val_loss: 3.7428\n",
      "Epoch 15/50\n",
      "297/297 [==============================] - 177s 597ms/step - loss: 3.2498 - val_loss: 3.7396\n",
      "Epoch 16/50\n",
      "297/297 [==============================] - 177s 597ms/step - loss: 3.1953 - val_loss: 3.7003\n",
      "Epoch 17/50\n",
      "297/297 [==============================] - 176s 593ms/step - loss: 3.1416 - val_loss: 3.6896\n",
      "Epoch 18/50\n",
      "297/297 [==============================] - 175s 589ms/step - loss: 3.0895 - val_loss: 3.6845\n",
      "Epoch 19/50\n",
      "297/297 [==============================] - 175s 591ms/step - loss: 3.0443 - val_loss: 3.6642\n",
      "Epoch 20/50\n",
      "297/297 [==============================] - 175s 590ms/step - loss: 3.0016 - val_loss: 3.6503\n",
      "Epoch 21/50\n",
      "297/297 [==============================] - 175s 589ms/step - loss: 2.9654 - val_loss: 3.6455\n",
      "Epoch 22/50\n",
      "297/297 [==============================] - 175s 590ms/step - loss: 2.9276 - val_loss: 3.6301\n",
      "Epoch 23/50\n",
      "297/297 [==============================] - 176s 591ms/step - loss: 2.8892 - val_loss: 3.6501\n",
      "Epoch 24/50\n",
      "297/297 [==============================] - 175s 590ms/step - loss: 2.8530 - val_loss: 3.6237\n",
      "Epoch 25/50\n",
      "297/297 [==============================] - 175s 588ms/step - loss: 2.8193 - val_loss: 3.6183\n",
      "Epoch 26/50\n",
      "297/297 [==============================] - 176s 592ms/step - loss: 2.7857 - val_loss: 3.6226\n",
      "Epoch 27/50\n",
      "297/297 [==============================] - 175s 589ms/step - loss: 2.7536 - val_loss: 3.6160\n",
      "Epoch 28/50\n",
      "297/297 [==============================] - 175s 590ms/step - loss: 2.7267 - val_loss: 3.6184\n",
      "Epoch 29/50\n",
      "297/297 [==============================] - 176s 591ms/step - loss: 2.7007 - val_loss: 3.6224\n",
      "Epoch 00029: early stopping\n"
     ]
    }
   ],
   "source": [
    "model.compile(optimizer='rmsprop', loss='sparse_categorical_crossentropy')\n",
    "es = EarlyStopping(monitor='val_loss', patience=2, verbose=1)\n",
    "history = model.fit(x=[encoder_input_train, decoder_input_train], y=decoder_target_train, \\\n",
    "          validation_data=([encoder_input_test, decoder_input_test], decoder_target_test), \\\n",
    "          batch_size=256, callbacks=[es], epochs=50)"
   ]
  },
  {
   "cell_type": "code",
   "execution_count": 37,
   "id": "8d06176f",
   "metadata": {},
   "outputs": [
    {
     "data": {
      "image/png": "[encoded data removed]",
      "text/plain": [
       "<Figure size 432x288 with 1 Axes>"
      ]
     },
     "metadata": {
      "needs_background": "light"
     },
     "output_type": "display_data"
    }
   ],
   "source": [
    "plt.plot(history.history['loss'], label='train')\n",
    "plt.plot(history.history['val_loss'], label='test')\n",
    "plt.legend()\n",
    "plt.show()"
   ]
  },
  {
   "cell_type": "markdown",
   "id": "4b7e41e7",
   "metadata": {},
   "source": [
    "## (3) 인퍼런스 모델 구현하기"
   ]
  },
  {
   "cell_type": "code",
   "execution_count": 38,
   "id": "f93e715d",
   "metadata": {},
   "outputs": [],
   "source": [
    "src_index_to_word = src_tokenizer.index_word # 원문 단어 집합에서 정수 -> 단어를 얻음\n",
    "tar_word_to_index = tar_tokenizer.word_index # 요약 단어 집합에서 단어 -> 정수를 얻음\n",
    "tar_index_to_word = tar_tokenizer.index_word # 요약 단어 집합에서 정수 -> 단어를 얻음"
   ]
  },
  {
   "cell_type": "code",
   "execution_count": 39,
   "id": "9b9fbfb2",
   "metadata": {},
   "outputs": [],
   "source": [
    "# 인코더 설계\n",
    "encoder_model = Model(inputs=encoder_inputs, outputs=[encoder_outputs, state_h, state_c])\n",
    "\n",
    "# 이전 시점의 상태들을 저장하는 텐서\n",
    "decoder_state_input_h = Input(shape=(hidden_size,))\n",
    "decoder_state_input_c = Input(shape=(hidden_size,))\n",
    "\n",
    "dec_emb2 = dec_emb_layer(decoder_inputs)\n",
    "\n",
    "# 문장의 다음 단어를 예측하기 위해서 초기 상태(initial_state)를 이전 시점의 상태로 사용. 이는 뒤의 함수 decode_sequence()에 구현\n",
    "# 훈련 과정에서와 달리 LSTM의 리턴하는 은닉 상태와 셀 상태인 state_h와 state_c를 버리지 않음.\n",
    "decoder_outputs2, state_h2, state_c2 = decoder_lstm(dec_emb2, initial_state=[decoder_state_input_h, decoder_state_input_c])\n",
    "\n",
    "# 어텐션 함수\n",
    "decoder_hidden_state_input = Input(shape=(text_max_len, hidden_size))\n",
    "attn_out_inf = attn_layer([decoder_outputs2, decoder_hidden_state_input])\n",
    "decoder_inf_concat = Concatenate(axis=-1, name='concat')([decoder_outputs2, attn_out_inf])\n",
    "\n",
    "# 디코더의 출력층\n",
    "decoder_outputs2 = decoder_softmax_layer(decoder_inf_concat) \n",
    "\n",
    "# 최종 디코더 모델\n",
    "decoder_model = Model(\n",
    "    [decoder_inputs] + [decoder_hidden_state_input,decoder_state_input_h, decoder_state_input_c],\n",
    "    [decoder_outputs2] + [state_h2, state_c2])"
   ]
  },
  {
   "cell_type": "code",
   "execution_count": 43,
   "id": "061e3c55",
   "metadata": {},
   "outputs": [],
   "source": [
    "def decode_sequence(input_seq):\n",
    "    # 입력으로부터 인코더의 상태를 얻음\n",
    "    e_out, e_h, e_c = encoder_model.predict(input_seq)\n",
    "\n",
    "     # <SOS>에 해당하는 토큰 생성\n",
    "    target_seq = np.zeros((1,1))\n",
    "    target_seq[0, 0] = tar_word_to_index['sostoken']\n",
    "\n",
    "    stop_condition = False\n",
    "    decoded_sentence = ''\n",
    "    while not stop_condition: # stop_condition이 True가 될 때까지 루프 반복\n",
    "\n",
    "        output_tokens, h, c = decoder_model.predict([target_seq] + [e_out, e_h, e_c])\n",
    "        sampled_token_index = np.argmax(output_tokens[0, -1, :])\n",
    "        sampled_token = tar_index_to_word[sampled_token_index]\n",
    "\n",
    "        if (sampled_token!='eostoken'):\n",
    "            decoded_sentence += ' '+sampled_token\n",
    "\n",
    "        #  <eos>에 도달하거나 최대 길이를 넘으면 중단.\n",
    "        if (sampled_token == 'eostoken'  or len(decoded_sentence.split()) >= (headlines_max_len-1)):\n",
    "            stop_condition = True\n",
    "\n",
    "        # 길이가 1인 타겟 시퀀스를 업데이트\n",
    "        target_seq = np.zeros((1,1))\n",
    "        target_seq[0, 0] = sampled_token_index\n",
    "\n",
    "        # 상태를 업데이트 합니다.\n",
    "        e_h, e_c = h, c\n",
    "\n",
    "    return decoded_sentence"
   ]
  },
  {
   "cell_type": "markdown",
   "id": "300b2902",
   "metadata": {},
   "source": [
    "# 4. 실제 결과와 요약문 비교하기 (추상적 요약)"
   ]
  },
  {
   "cell_type": "code",
   "execution_count": 44,
   "id": "07ac622f",
   "metadata": {},
   "outputs": [],
   "source": [
    "# 원문의 정수 시퀀스를 텍스트 시퀀스로 변환\n",
    "def seq2text(input_seq):\n",
    "    temp=''\n",
    "    for i in input_seq:\n",
    "        if (i!=0):\n",
    "            temp = temp + src_index_to_word[i]+' '\n",
    "    return temp\n",
    "\n",
    "# 요약문의 정수 시퀀스를 텍스트 시퀀스로 변환\n",
    "def seq2summary(input_seq):\n",
    "    temp=''\n",
    "    for i in input_seq:\n",
    "        if ((i!=0 and i!=tar_word_to_index['sostoken']) and i!=tar_word_to_index['eostoken']):\n",
    "            temp = temp + tar_index_to_word[i] + ' '\n",
    "    return temp"
   ]
  },
  {
   "cell_type": "code",
   "execution_count": 45,
   "id": "78eb6eb2",
   "metadata": {
    "scrolled": false
   },
   "outputs": [
    {
     "name": "stdout",
     "output_type": "stream",
     "text": [
      "원문 : kerala finance minister thomas isaac claimed reimbursement lakh state exchequer day ayurvedic treatment private clinic malappuram rti reply revealed also sought reimbursement amount spent towels rti added comes isaac warned state facing financial crisis \n",
      "실제 요약 : kerala minister claimed for ayurveda treatment rti \n",
      "예측 요약 :  kerala govt to give more than hotels for poor\n",
      "\n",
      "\n",
      "원문 : australian opening batsman david warner dismissed score century next ball dismissal found ball resulting due bowler warner caught trying pull debutant tom curran ball first day boxing day test melbourne tuesday \n",
      "실제 요약 : warner dismissed on off no ball scores ton on next ball \n",
      "예측 요약 :  smith scores from boundary to take catch on his own penalty\n",
      "\n",
      "\n",
      "원문 : pakistan pm imran khan said bringing back looted wealth abroad corrupt politicians way stabilise economy without taking foreign loans may go international monetary fund loan first try get assistance countries added imran said corrupt people know spare anyone \n",
      "실제 요약 : bringing back looted wealth only way to stabilise economy pak pm \n",
      "예측 요약 :  pakistan pm imran khan will return to pakistan pm imran khan\n",
      "\n",
      "\n",
      "원문 : actor shah rukh khan shared picture imtiaz ali riding bike sharing filmmaker said aaj kal main sirf highway par hoon imtiaz statement reference three films love aaj kal highway srk following imtiaz car tweeted late night discussions director imtiaz \n",
      "실제 요약 : kal main highway par hoon imtiaz ali \n",
      "예측 요약 :  srk shares pic with srk for his first time\n",
      "\n",
      "\n",
      "원문 : year old man become oldest person get part stomach removed robotic surgery procedure called robotic bengaluru hospital man cancerous tumour caused block stomach notably amount tissue violated robotic surgery less compared open surgery \n",
      "실제 요약 : year old becomes oldest person to get robotic \n",
      "예측 요약 :  man gets life for cancer after years\n",
      "\n",
      "\n",
      "원문 : many three people died tuesday snowfall left pilgrims stranded uttarakhand two died heart attack third died trekking party faced avalanche snowfall five inches reported kedarnath disrupting helicopter services pilgrims \n",
      "실제 요약 : die as snowfall pilgrims in kedarnath \n",
      "예측 요약 :  dead after avalanche falls into gorge in odisha\n",
      "\n",
      "\n",
      "원문 : british theoretical physicist stephen hawking member oxford rowing team paralysed due hawking joined team controls steering stroke rate finding feeling isolated lonely college hawking called type members sometimes damaged boats steering narrow gaps \n",
      "실제 요약 : stephen hawking was on the oxford university team \n",
      "예측 요약 :  hawking hawking had hawking had hawking\n",
      "\n",
      "\n",
      "원문 : us uk based researchers developed platinum copper alloy break carbon hydrogen bonds natural gas make fuels useful chemicals new catalyst resistant metal becomes coated carbon layer rendering ineffective blocking surface reactions reactions also used less energy breaking methane \n",
      "실제 요약 : scientists find new for making from gas \n",
      "예측 요약 :  scientists develop new type of\n",
      "\n",
      "\n",
      "원문 : supporters samajwadi party student wing leader banaras hindu university wednesday vandalised atm damaged vehicles set school bus fire leader arrested also forcibly closed two university gates including main entrance around hour accused booked three cases extortion \n",
      "실제 요약 : sp student wing leader arrest sparks violence at bhu \n",
      "예측 요약 :  hardik statue arrested for bus in mumbai\n",
      "\n",
      "\n",
      "원문 : first day earnings crore sonam kapoor kareena kapoor starrer veere di wedding beat akshay kumar padman become third highest opener india reportedly first film led female star cast double digit opening country baaghi remains highest opener followed padmaavat \n",
      "실제 요약 : veere beats padman becomes rd highest opener of \n",
      "예측 요약 :  shraddha kapoor to be paid crore in sonam bharat reports\n",
      "\n",
      "\n",
      "원문 : late actress carrie fisher autopsy report revealed cocaine heroin ecstasy system may consumed three days death however investigators could determine impact drugs death fisher known playing princess star wars passed away following heart attack nnn \n",
      "실제 요약 : had heroin cocaine in system when she died autopsy \n",
      "예측 요약 :  ex mumbai model dies after being hit by\n",
      "\n",
      "\n",
      "원문 : uttarakhand chief minister trivendra singh rawat tuesday issued order mandating liquor shops state opened pm pm earlier rawat said would adopt inclusive approach stop people consuming liquor outcome banning alcohol several states positive far \n",
      "실제 요약 : uttarakhand govt limits liquor sales to only hrs \n",
      "예측 요약 :  khand govt to open khand cm residence\n",
      "\n",
      "\n",
      "원문 : great learning great lakes pg program business analytics business intelligence ranked analytics program india th consecutive year analytics india magazine learners transitioned organisations google mckinsey microsoft amazon flipkart etc average salary hike completion program \n",
      "실제 요약 : great learning great lakes program ranked no report \n",
      "예측 요약 :  india ranks on moon mission to india growth\n",
      "\n",
      "\n",
      "원문 : us defence secretary james mattis said north korea get relief sanctions takes clear irreversible steps end nuclear programme added road nuclear negotiations north korea june remarks follow president donald trump meeting senior north korean official kim yong \n",
      "실제 요약 : no sanctions relief for korea until denuclearisation us \n",
      "예측 요약 :  us sanctions on north korea\n",
      "\n",
      "\n",
      "원문 : chinese carmaker great wall motors said interested bidding fiat chrysler automobiles currently intention acquire great wall said monday notably owns brands like jeep maserati looking buyer partner help manage rising costs develop technology electric self driving cars \n",
      "실제 요약 : china carmaker great wall interested in buying fiat \n",
      "예측 요약 :  mercedes benz parent to sell house in future companies\n",
      "\n",
      "\n",
      "원문 : mumbai bound jet airways flight getting ready depart mangaluru airport today forced abort takeoff due empty tractor parked end runway tractor deployed cutting grass spotted air traffic control mishap averted passengers crew members reported safe \n",
      "실제 요약 : jet airways flight takeoff to avoid hitting tractor \n",
      "예측 요약 :  jet airways flight suffers wheel after being hit by\n",
      "\n",
      "\n",
      "원문 : residential projects worth around trillion stuck major indian cities mumbai delhi topping list according property consultants projects delayed various reasons like litigation cash crunch construction violations notably value delayed projects pune combined figures hyderabad chennai bengaluru \n",
      "실제 요약 : tn of residential projects stuck in major cities report \n",
      "예측 요약 :  mumbai airport expressway highest cities in days\n",
      "\n",
      "\n",
      "원문 : team india wicketkeeper batsman kl rahul took twitter share leaked video virat kohli reportedly getting beard insured haha knew obsessed beard imvkohli news getting beard insured confirms theory rahul wrote video kohli seen getting beard measured signing papers afterwards \n",
      "실제 요약 : rahul tweets leaked video of kohli getting beard \n",
      "예측 요약 :  rahul tweets rahul gandhi on rahul gandhi tweets\n",
      "\n",
      "\n",
      "원문 : delhi assembly tuesday passed resolution make stalking non bailable offence resolution moved aap member alka lamba listed several cases stalking victims murdered accused let bail resolution demanded amendment awarding death penalty convicted raping children years age \n",
      "실제 요약 : stalking to be made non bailable offence in delhi \n",
      "예측 요약 :  delhi hc upholds conviction in law blast case\n",
      "\n",
      "\n",
      "원문 : responding shane warne criticism australia pacer mitchell starc said keep listening warne may well retire keep going stuff done weeks starc added warne questioned starc restrained body language criticised performance first india test despite pacer taking five wickets \n",
      "실제 요약 : if keep listening to warne may as well retire mitchell starc \n",
      "예측 요약 :  would look like in the world future ceo\n",
      "\n",
      "\n",
      "원문 : former pm indira gandhi faced confidence motions moved lok sabha lal bahadur shastri pv narasimha rao faced three month five year respectively first motion moved jawaharlal nehru government manmohan singh served ten years pm face confidence motion \n",
      "실제 요약 : ex pm indira faced of no trust in lok sabha \n",
      "예측 요약 :  sonia gandhi elected as pm vajpayee in lok sabha\n",
      "\n",
      "\n",
      "원문 : american rapper kanye west said african americans centuries may choice hear slavery years sounds like choice said however later clarified saying us stayed position even though numbers side means mentally \n",
      "실제 요약 : kanye west suggests slavery was choice \n",
      "예측 요약 :  kanye west west name of years ago\n",
      "\n",
      "\n",
      "원문 : following deal us based retail giant walmart flipkart co founder sachin bansal leaving indian commerce startup sell entire stake walmart reported amount billion however co founder binny bansal still hold stake year old homegrown startup expected valued billion \n",
      "실제 요약 : sachin bansal leaves flipkart will sell entire stake for bn \n",
      "예측 요약 :  flipkart binny bansal may sell entire stake in flipkart reports\n",
      "\n",
      "\n",
      "원문 : american hedge fund tiger global management led million funding round us based delivery service startup part deal scott partner tiger global management joining board directors investment reportedly values billion double previous valuation startup \n",
      "실제 요약 : tiger global leads mn funding in us delivery startup \n",
      "예측 요약 :  tiger invests mn in tesla funding\n",
      "\n",
      "\n",
      "원문 : fir lodged alleging laws killed dowry woman uttar pradesh barabanki district found alive married another man delhi woman father filed fir laws allow meet upon investigation police found delhi arrested finding facebook \n",
      "실제 요약 : woman killed for dowry found alive married to another man \n",
      "예측 요약 :  fir filed against husband for abusing woman in dowry\n",
      "\n",
      "\n",
      "원문 : scottish town named patna celebrated bihar diwas last week town established scottish william born patna bihar event attended indian high commissioner uk sinha said patna always important centre learning trade \n",
      "실제 요약 : scottish town of patna celebrated bihar diwas \n",
      "예측 요약 :  bihar village declared puja after years\n",
      "\n",
      "\n",
      "원문 : madras hc revoked income tax department order declaring kalanithi maran principal officer spicejet making liable alleged tax dues company owned comes department produced material prove maran responsible day day affairs spicejet \n",
      "실제 요약 : hc sets aside order against maran on spicejet \n",
      "예측 요약 :  hc orders spicejet to pay crore to deposit\n",
      "\n",
      "\n",
      "원문 : failing let girls complete years education cost countries trillion lost lifetime productivity earnings according world bank report crore girls worldwide aged attend school said report added women secondary education earn almost twice much education \n",
      "실제 요약 : incomplete education of girls costs tn world bank \n",
      "예측 요약 :  children in world largest economy trillion by trillion\n",
      "\n",
      "\n",
      "원문 : sonakshi sinha speaking rumours fight salman khan said reports make difference ask salman fought think people want talk something added sonakshi said grateful whatever today dabangg \n",
      "실제 요약 : makes no difference sonakshi on rumour of fight with salman \n",
      "예측 요약 :  salman khan is lot of salman khan\n",
      "\n",
      "\n",
      "원문 : us begin using facial recognition technology part pilot programme border mexico scan images people travelling inside vehicles images captured matched government documents including passports visas would help verifying travellers get border checkpoint according reports \n",
      "실제 요약 : us to use facial recognition to scan people at mexico border \n",
      "예측 요약 :  us bans drone from using drones to avoid military\n",
      "\n",
      "\n",
      "원문 : germany based supermarket chain apologised removing church crosses images church greek food range packaging facing criticism sorry offence caused artwork revising design soon possible said said product design intended convey ideological \n",
      "실제 요약 : retailer apologises for removing church crosses on packaging \n",
      "예측 요약 :  slammed for ad that hate ad models\n",
      "\n",
      "\n",
      "원문 : occasion country independence day pakistani pm shahid abbasi monday urged international community play due role resolving kashmir issue india ensuring peace region kashmir conflict territorial conflict india pakistan started even two nations became independent britain \n",
      "실제 요약 : pak pm urges global community to play role in kashmir issue \n",
      "예측 요약 :  india will not be allowed to kashmir issue pakistan pm\n",
      "\n",
      "\n",
      "원문 : croatian forward sent home fifa world cup refused come substitute croatia victory nigeria year old footballer reportedly cited back injury able play need players fit ready play croatia coach said \n",
      "실제 요약 : footballer sent home from world cup after refusing to play \n",
      "예측 요약 :  fan who is fifa wc winning player retires from wc\n",
      "\n",
      "\n",
      "원문 : claiming general elections choice stable government versus combination finance minister arun jaitley said societies never commit suicide clear happen jaitley speaking hindustan times leadership summit described mahagathbandhan political parties tried tested failed idea \n",
      "실제 요약 : do not commit suicide jaitley on polls \n",
      "예측 요약 :  no one of the term jaitley on note ban\n",
      "\n",
      "\n",
      "원문 : reacting salman khan launching driving center dubai twitter user wrote next gurmeet ram rahim inaugurate women safety centre another user wrote oh drink drive special another comment read shaikh bro need manage population shaikh say \n",
      "실제 요약 : twitter users react to salman khan launching driving center \n",
      "예측 요약 :  salman slams salman for not having deepika remark\n",
      "\n",
      "\n",
      "원문 : underworld dawood ibrahim brother iqbal kaskar police custody revealed dawood travels dubai along third brother anees ibrahim without papers avoid tracked intelligence agencies also claimed spoken dawood four times recent past notably kaskar arrested week extortion case \n",
      "실제 요약 : dawood travels to dubai without papers says brother \n",
      "예측 요약 :  dawood ibrahim aide held for dawood ibrahim\n",
      "\n",
      "\n",
      "원문 : gurugram based online lending startup finance raised crore funding switzerland based finance amount used diversify startup lending portfolio founded sanjay sharma vikram finance non banking financial company providing business loans small micro enterprises across india \n",
      "실제 요약 : gurugram online lending startup raises crore \n",
      "예측 요약 :  bengaluru based startup raises crore\n",
      "\n",
      "\n",
      "원문 : law students mumbai university marked failed due error law department supposed check answer scripts enter revised total score assessment software instead entered difference two scores corrected results uploaded website sunday night \n",
      "실제 요약 : mumbai varsity students fail due to teacher error \n",
      "예측 요약 :  jnu students to be called by students\n",
      "\n",
      "\n",
      "원문 : former australian pacer glenn mcgrath praised indian pacer jasprit bumrah saying bumrah fantastic runs smoothly increases momentum follow fine excellent modern day bowler course yorkers good bouncers deceptive consistently good great asset india mcgrath added \n",
      "실제 요약 : bumrah is an modern day bowler glenn mcgrath \n",
      "예측 요약 :  bumrah bumrah should be given for aus pacer ganguly\n",
      "\n",
      "\n",
      "원문 : priests associated odisha jagannath temple accused government authorities temple administration trying defame reports claimed misbehaved president ram nath kovind wife visit march leaked information temple administration meeting revealed blocked president kovind way shoved wife reports claimed \n",
      "실제 요약 : govt trying to us odisha priests on prez visit row \n",
      "예측 요약 :  rss chief calls rss chief for rss in rss\n",
      "\n",
      "\n",
      "원문 : spacex tesla ceo elon musk friday revealed underground tunnels dug new startup boring company work tunnels meant help vehicles avoid traffic roads video shows car stopping elevator entrance road network tunnels \n",
      "실제 요약 : musk shows how his startup underground tunnels will work \n",
      "예측 요약 :  elon musk boring company to be launched in tesla tunnel\n",
      "\n",
      "\n",
      "원문 : aap led delhi government tuesday urged national green tribunal direct neighbouring states national capital region implement odd even car scheme cities ghaziabad noida faridabad reportedly identified regard pollution ncr direct impact national capital \n",
      "실제 요약 : ask states to adopt odd even delhi govt to ngt \n",
      "예측 요약 :  delhi govt asks delhi to cut delhi cm kejriwal\n",
      "\n",
      "\n",
      "원문 : mumbai court monday sentenced somali pirates seven years jail hijacking merchant vessel sailed iran kidnapping crew members indian waters court directed government deport convicts somalia terms served notably already spent six years jail \n",
      "실제 요약 : mumbai somali pirates jailed for yrs for vessel hijack \n",
      "예측 요약 :  syrian court upholds life sentence for blasts in jail\n",
      "\n",
      "\n",
      "원문 : trailer one heart ar rahman concert film released trailer musicians rahman band seen describing experience working film reportedly feature rahman songs performed along band scheduled release august \n",
      "실제 요약 : trailer of one heart the ar rahman concert film released \n",
      "예측 요약 :  trailer of trailer of oscar ii released\n",
      "\n",
      "\n",
      "원문 : indian railways first ever train travels kmph train began trials monday cut travel time around compared shatabdi sliding doors open train stops like ones metro coaches designed way passengers look driver cabin \n",
      "실제 요약 : india st train travels at kmph has doors \n",
      "예측 요약 :  india first ac train train to be launched in india\n",
      "\n",
      "\n",
      "원문 : bangalore university served notice physical education director allowing private event swimming pool campus private fitness organisation held event sunday pool charged per person university granted permission event pool provided free cost \n",
      "실제 요약 : luru varsity official pulled up over private event at pool \n",
      "예측 요약 :  jnu students to be mandatory for swimming pool\n",
      "\n",
      "\n",
      "원문 : dmk president mk stalin monday hit back pm narendra modi describing alliance congress said bjp led rule worse emergency added former pm indira gandhi implemented emergency later expressed regret today modi leading dictatorial rule \n",
      "실제 요약 : bjp rule worse than emergency dmk chief mk stalin \n",
      "예측 요약 :  pm modi is the dmk stalin on dmk stalin\n",
      "\n",
      "\n",
      "원문 : kolkata knight riders owner shah rukh khan said cancel flight booked attend final ipl side exit friday proud love yes smiling entertainment many moments glory awesome team part srk tweet read \n",
      "실제 요약 : shah rukh khan to cancel flight for final after kkr exit \n",
      "예측 요약 :  shah rukh khan tweets srk on ipl\n",
      "\n",
      "\n",
      "원문 : apple investigating reports claiming supplier computer illegally used high school students assemble watches china factory hong kong based labour rights group alleged students aged forced schools work factory compulsory also said students made work overtime violating chinese regulations \n",
      "실제 요약 : apple investigating reports of student labour at china plant \n",
      "예측 요약 :  apple supplier leaks apple factory in gujarat\n",
      "\n",
      "\n",
      "원문 : talking entrepreneurship makemytrip ceo deep kalra recent event said india still takes long time build business adding people tend panic early said tell entrepreneurs look back first years kalra said conviction one important things \n",
      "실제 요약 : takes long time to build business in india makemytrip ceo \n",
      "예측 요약 :  india will not be able to see my best side ceo\n",
      "\n",
      "\n"
     ]
    }
   ],
   "source": [
    "for i in range(50, 100):\n",
    "    print(\"원문 :\", seq2text(encoder_input_test[i]))\n",
    "    print(\"실제 요약 :\", seq2summary(decoder_input_test[i]))\n",
    "    print(\"예측 요약 :\", decode_sequence(encoder_input_test[i].reshape(1, text_max_len)))\n",
    "    print(\"\\n\")"
   ]
  },
  {
   "cell_type": "markdown",
   "id": "38dd16a2",
   "metadata": {},
   "source": [
    "# 5. Summa을 이용해서 추출적 요약해보기"
   ]
  },
  {
   "cell_type": "code",
   "execution_count": 46,
   "id": "29e91f43",
   "metadata": {},
   "outputs": [],
   "source": [
    "import requests\n",
    "from summa.summarizer import summarize"
   ]
  },
  {
   "cell_type": "code",
   "execution_count": 55,
   "id": "9fb9b228",
   "metadata": {},
   "outputs": [],
   "source": [
    "input_text = data['text']"
   ]
  },
  {
   "cell_type": "code",
   "execution_count": 57,
   "id": "ca1d9725",
   "metadata": {},
   "outputs": [
    {
     "name": "stdout",
     "output_type": "stream",
     "text": [
      "원문 :  british singer songwriter harry styles known member boy band one direction friday released first single sign times bit weird feel like hibernating long time give birth said harry admitting song proud writing\n",
      "요약1 :  \n",
      "요약2 :  \n",
      "\n",
      "\n",
      "원문 :  mla meghalaya south garo hills allegedly beat man asking uncomfortable questions relating slow progress development constituency victim reportedly sustained heavy injuries left swollen face blackened eyes matter investigation victim sent medical test police officials said\n",
      "요약1 :  \n",
      "요약2 :  \n",
      "\n",
      "\n",
      "원문 :  police pulled year old woman body burning funeral pyre village uttar pradesh muzaffarnagar booked husband four others suspecting foul play behind death woman brother lodged complaint alleging laws killed secretly trying cremate body order destroy evidence\n",
      "요약1 :  \n",
      "요약2 :  \n",
      "\n",
      "\n",
      "원문 :  amrapali ceo ritik kumar sinha director nishant mukul arrested alleged fraud paying labour cess crore labour department amrapali received final recovery notice march failed pay police took action district administration said labour cess charged labour welfare group pay\n",
      "요약1 :  \n",
      "요약2 :  \n",
      "\n",
      "\n",
      "원문 :  government wait concrete evidence taking action heads state owned lenders syndicate bank indian bank financial services secretary rajiv kumar said take action based hearsay kumar added executives booked crore loan fraud case involving companies former aircel promoter sivasankaran\n",
      "요약1 :  \n",
      "요약2 :  \n",
      "\n",
      "\n",
      "원문 :  many members member special investigation team probing murder journalist gauri lankesh asked go back original postings according reports earlier sit released three sketches two suspected murderers based eyewitness accounts around people interrogated case\n",
      "요약1 :  \n",
      "요약2 :  \n",
      "\n",
      "\n",
      "원문 :  around lakh imposed fine violators two days teams monitoring implementation measures combat pollution delhi ncr central pollution control board said part clean air campaign launched november monitor report polluting activities highest number complaints related illegal construction demolition activities\n",
      "요약1 :  \n",
      "요약2 :  \n",
      "\n",
      "\n",
      "원문 :  us state secretary rex tillerson suggested us india partner build road connectivity sub continent port connectivity indo pacific alternative china one belt one road initiative pitching road connectivity bangladesh afghanistan tillerson said alternative would rule based transparent funding\n",
      "요약1 :  \n",
      "요약2 :  \n",
      "\n",
      "\n",
      "원문 :  speaking delhi assembly bjp mla op sharma monday told aap leader amanatullah khan stop talking like terrorist khan criticised government officers raised issue water shortage constituency walked assembly sharma reportedly also called aap lawmakers gundas claimed delhi cm arvind kejriwal supportive terrorists\n",
      "요약1 :  \n",
      "요약2 :  \n",
      "\n",
      "\n",
      "원문 :  europe based research found consumption common painkiller fever drug ibuprofen six weeks disrupted male sex hormone production within two weeks mg ibuprofen twice day male participants aged developed disorder normally seen older men smokers body needs compensate low testosterone production\n",
      "요약1 :  \n",
      "요약2 :  \n",
      "\n",
      "\n"
     ]
    }
   ],
   "source": [
    "for _ in range(10):\n",
    "    random_n = np.random.randint(len(input_text))\n",
    "    print(\"원문 : \", input_text[random_n])\n",
    "    print(\"요약1 : \", summarize(input_text[random_n], ratio=0.5))\n",
    "    print(\"요약2 : \", summarize(input_text[random_n], words=20))\n",
    "    print(\"\\n\")"
   ]
  },
  {
   "cell_type": "markdown",
   "id": "f7f2af5a",
   "metadata": {},
   "source": [
    "# 6. 회고\n",
    "\n",
    "데이터 전처리하는데 시간이 오래 걸렸다. 그래도 세세하게 하면서 전처리 과정을 잘 알 수 있어서 좋았다.\n",
    "\n",
    "그러나 모델학습하고 요약문을 만드는데 성과가 그렇게 좋아보이지는 않는다. 알 수 없는 단어들이 나온다거나, 문장 해석이 안되는 경우가 많다.\n",
    "\n",
    "summa를 이용해서는 요약문이 아예 나오지 않아 답답했는데 뭐가 문제인지 알기 어려웠다.\n",
    "\n",
    "NLP는 너무 어렵다..ㅜ"
   ]
  }
 ],
 "metadata": {
  "kernelspec": {
   "display_name": "Python 3 (ipykernel)",
   "language": "python",
   "name": "python3"
  },
  "language_info": {
   "codemirror_mode": {
    "name": "ipython",
    "version": 3
   },
   "file_extension": ".py",
   "mimetype": "text/x-python",
   "name": "python",
   "nbconvert_exporter": "python",
   "pygments_lexer": "ipython3",
   "version": "3.9.7"
  }
 },
 "nbformat": 4,
 "nbformat_minor": 5
}
